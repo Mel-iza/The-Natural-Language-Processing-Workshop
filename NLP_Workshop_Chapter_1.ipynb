{
  "nbformat": 4,
  "nbformat_minor": 0,
  "metadata": {
    "colab": {
      "provenance": [],
      "authorship_tag": "ABX9TyPg8wzMo67u5pxVC0ySgAB0",
      "include_colab_link": true
    },
    "kernelspec": {
      "name": "python3",
      "display_name": "Python 3"
    },
    "language_info": {
      "name": "python"
    }
  },
  "cells": [
    {
      "cell_type": "markdown",
      "metadata": {
        "id": "view-in-github",
        "colab_type": "text"
      },
      "source": [
        "<a href=\"https://colab.research.google.com/github/Mel-iza/The-Natural-Language-Processing-Workshop/blob/main/NLP_Workshop_Chapter_1.ipynb\" target=\"_parent\"><img src=\"https://colab.research.google.com/assets/colab-badge.svg\" alt=\"Open In Colab\"/></a>"
      ]
    },
    {
      "cell_type": "markdown",
      "source": [
        "<h1> <b>The Natural Language Processing Workshop</b> </h1>\n",
        "Rohan Chopra, Aniruddha M. Godbole, Nipun Sadvilkar et al, 2020. Packt Publishing."
      ],
      "metadata": {
        "id": "MxKRwHSF8Hd8"
      }
    },
    {
      "cell_type": "markdown",
      "source": [
        "### Chapter 1: Introduction to Natural Language Processing"
      ],
      "metadata": {
        "id": "flB2iDrKY5JE"
      }
    },
    {
      "cell_type": "markdown",
      "source": [
        "Overview: In this chapter, you will learn the difference between **Natural Language Processing (NLP)** and basic text analysis. You will implement various preprocessing tasks such as tokenization, lemmatization, stemming, stop word removal, and more. By the end of this chapter, you will have a deep understanding of the various phases of an NLP project, from data collection to model deployment."
      ],
      "metadata": {
        "id": "ZgEjGHhgDWxs"
      }
    },
    {
      "cell_type": "markdown",
      "source": [
        "- **What natural language is?** <br>\n",
        "It is a means for us to express our thoughts and ideas. To define it more specifically, language is a mutually agreed upon set of protocols involving words/sounds that we use to communicate with each other.\n",
        "\n",
        "NLP can be defined as a field of computer science that is concerned with enabling compouter algorithms to understand, analyze, and generate natural languages.\n"
      ],
      "metadata": {
        "id": "UscKTUcPD8wg"
      }
    },
    {
      "cell_type": "markdown",
      "source": [
        "NLP works at different leves, with means that machines process and understand natural language at different levels:\n",
        "- **Morphological level**: this leval deals with understanding word structure and word information;\n",
        "- **Lexical level**: This level deals with understanding the part od speech of the word. <i>(compreensão da parte gramatical da palavra)</i>\n",
        "- **Syntatic level**: This level deals with understanding the syntatic analysis of a sentence, or parsing a sentence.\n",
        "- **Semantic level**: This deals with understanding the actual meaning of a sentence.\n",
        "- **Discourse level**: This level deals with understanding the meaning of a sentence beyound just the sentence level, that is, considering the context.\n",
        "- **Pragmatic level**: This level deals with using real-world knowledge to understand sentence. "
      ],
      "metadata": {
        "id": "VCkoYDF1Fi9B"
      }
    },
    {
      "cell_type": "markdown",
      "source": [
        "**History of NLP** <br>\n",
        "\n",
        "**NLP** = Artificial intelligence + linguistics + data science \n",
        "\n",
        "With the advancemnt of computing technologies and increased availability of data, NLP has undergone a huge change. Previously a traditional rule-based system was used for computations, in wich you had to explicitly write hardcoded rules. Today, compuations on natural language are being done using machine learning and deep learning techniques."
      ],
      "metadata": {
        "id": "LOAuEmh7avne"
      }
    },
    {
      "cell_type": "markdown",
      "source": [
        "<i>O exemplo utilizado para ilustrar como os sistemas de NLP eram utilizados de acordo com regras, foi baseado em um projeto de extrair nomes de políticos de um jornal. Se quisermos pegar esses nomes, antes teríamos que elaborar todas as regras para eles, como por exemplo, qual seria a estrutura sintática de um nome próprio - um nome próprio precisaria começar sempre com letra maiúscula -  e assim por diante.\n",
        "\n",
        "Muito embora esse sistema baseado em regras não trouxesse um desempenho computacional, foi utilizado por bastante tempo.</i>"
      ],
      "metadata": {
        "id": "zcjY1tbCIurm"
      }
    },
    {
      "cell_type": "markdown",
      "source": [
        "<b>Text Analytics and NLP </b>"
      ],
      "metadata": {
        "id": "O0I7OpYY81me"
      }
    },
    {
      "cell_type": "markdown",
      "source": [
        "Exercise 1.01: Basic Text Analytics"
      ],
      "metadata": {
        "id": "jodYWNNb9WMp"
      }
    },
    {
      "cell_type": "code",
      "execution_count": null,
      "metadata": {
        "id": "FJ6eM4-CUf7n"
      },
      "outputs": [],
      "source": []
    },
    {
      "cell_type": "markdown",
      "source": [
        "<b>Various Tasks in NLP</b>"
      ],
      "metadata": {
        "id": "jrSwt9HS9bw7"
      }
    },
    {
      "cell_type": "markdown",
      "source": [
        "Tokenization <br>\n",
        "Exercise 1.02: Tokenization of a simple sentence"
      ],
      "metadata": {
        "id": "2NzAo9l49iUC"
      }
    },
    {
      "cell_type": "code",
      "source": [],
      "metadata": {
        "id": "vd4WLzyG6KN5"
      },
      "execution_count": null,
      "outputs": []
    },
    {
      "cell_type": "markdown",
      "source": [
        "PoS Tagging <br>\n",
        "Exercise 1.03: PoS Tagging\n"
      ],
      "metadata": {
        "id": "g7fFXlW7904k"
      }
    },
    {
      "cell_type": "code",
      "source": [],
      "metadata": {
        "id": "NgCom0vv9-6I"
      },
      "execution_count": null,
      "outputs": []
    },
    {
      "cell_type": "markdown",
      "source": [
        "Stop Word Removal <br>\n",
        "Exercise 1.04: Stop Word Removal"
      ],
      "metadata": {
        "id": "E645LpRc-A77"
      }
    },
    {
      "cell_type": "code",
      "source": [],
      "metadata": {
        "id": "Gha13Hqz-Go7"
      },
      "execution_count": null,
      "outputs": []
    },
    {
      "cell_type": "markdown",
      "source": [
        "Text Normalization <br>\n",
        "Exercise 1.05: Text Normalization"
      ],
      "metadata": {
        "id": "Xng583jq-IPf"
      }
    },
    {
      "cell_type": "code",
      "source": [],
      "metadata": {
        "id": "ac1sOwhh-O6P"
      },
      "execution_count": null,
      "outputs": []
    },
    {
      "cell_type": "markdown",
      "source": [
        "Spelling Correction <br>\n",
        "Exercise 1.06: Spelling Correction of a word and a Sentence"
      ],
      "metadata": {
        "id": "Mhil3P1a_Pcr"
      }
    },
    {
      "cell_type": "code",
      "source": [],
      "metadata": {
        "id": "-8Bo1gH__YCC"
      },
      "execution_count": null,
      "outputs": []
    },
    {
      "cell_type": "markdown",
      "source": [
        "Stemming <br>\n",
        "Exercise 1.07: Using Stemming"
      ],
      "metadata": {
        "id": "2X8ns_Pc_YiV"
      }
    },
    {
      "cell_type": "code",
      "source": [],
      "metadata": {
        "id": "ZltGBX06_eY3"
      },
      "execution_count": null,
      "outputs": []
    },
    {
      "cell_type": "markdown",
      "source": [
        "Lemmatization <br>\n",
        "Exercise 1.08: Extracting the base Word using Lemmatization"
      ],
      "metadata": {
        "id": "GWGq4WnR_e0S"
      }
    },
    {
      "cell_type": "code",
      "source": [],
      "metadata": {
        "id": "2K8pdcU0_qA0"
      },
      "execution_count": null,
      "outputs": []
    },
    {
      "cell_type": "markdown",
      "source": [
        "Named Entity Recognition NER<br>\n",
        "Exercise 1.09: Treating Named Entities"
      ],
      "metadata": {
        "id": "VZZNHCYU_sM8"
      }
    },
    {
      "cell_type": "code",
      "source": [],
      "metadata": {
        "id": "wtDkem51_65F"
      },
      "execution_count": null,
      "outputs": []
    },
    {
      "cell_type": "markdown",
      "source": [
        "Word Sense Disambiguation <br>\n",
        "Exercise 1.10: Word Sense Disabiguation"
      ],
      "metadata": {
        "id": "Q4jEVOQm_-Ue"
      }
    },
    {
      "cell_type": "code",
      "source": [],
      "metadata": {
        "id": "iYv5UT59AHv3"
      },
      "execution_count": null,
      "outputs": []
    },
    {
      "cell_type": "markdown",
      "source": [
        "Sentence Boundary Detection <br>\n",
        "Exercise 1.11: Sentence boundary detection"
      ],
      "metadata": {
        "id": "QMpoNohWAKAW"
      }
    },
    {
      "cell_type": "code",
      "source": [],
      "metadata": {
        "id": "nH72kFI4ATD5"
      },
      "execution_count": null,
      "outputs": []
    },
    {
      "cell_type": "markdown",
      "source": [
        "Activity 1.01: Preprocessing of raw text"
      ],
      "metadata": {
        "id": "hRGk6jYbATkx"
      }
    },
    {
      "cell_type": "code",
      "source": [],
      "metadata": {
        "id": "t-7byEQjAasQ"
      },
      "execution_count": null,
      "outputs": []
    }
  ]
}