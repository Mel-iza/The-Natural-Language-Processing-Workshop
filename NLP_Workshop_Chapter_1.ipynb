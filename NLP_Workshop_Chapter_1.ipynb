{
  "nbformat": 4,
  "nbformat_minor": 0,
  "metadata": {
    "colab": {
      "provenance": [],
      "authorship_tag": "ABX9TyPd6mGq1YW23X/wiJCpYTNy",
      "include_colab_link": true
    },
    "kernelspec": {
      "name": "python3",
      "display_name": "Python 3"
    },
    "language_info": {
      "name": "python"
    }
  },
  "cells": [
    {
      "cell_type": "markdown",
      "metadata": {
        "id": "view-in-github",
        "colab_type": "text"
      },
      "source": [
        "<a href=\"https://colab.research.google.com/github/Mel-iza/The-Natural-Language-Processing-Workshop/blob/main/NLP_Workshop_Chapter_1.ipynb\" target=\"_parent\"><img src=\"https://colab.research.google.com/assets/colab-badge.svg\" alt=\"Open In Colab\"/></a>"
      ]
    },
    {
      "cell_type": "markdown",
      "source": [
        "<h1> <b>The Natural Language Processing Workshop</b> </h1>\n",
        "Rohan Chopra, Aniruddha M. Godbole, Nipun Sadvilkar et al, 2020. Packt Publishing."
      ],
      "metadata": {
        "id": "MxKRwHSF8Hd8"
      }
    },
    {
      "cell_type": "markdown",
      "source": [
        "### Chapter 1: Introduction to Natural Language Processing"
      ],
      "metadata": {
        "id": "flB2iDrKY5JE"
      }
    },
    {
      "cell_type": "markdown",
      "source": [
        "Overview: In this chapter, you will learn the difference between **Natural Language Processing (NLP)** and basic text analysis. You will implement various preprocessing tasks such as tokenization, lemmatization, stemming, stop word removal, and more. By the end of this chapter, you will have a deep understanding of the various phases of an NLP project, from data collection to model deployment."
      ],
      "metadata": {
        "id": "ZgEjGHhgDWxs"
      }
    },
    {
      "cell_type": "markdown",
      "source": [
        "- **What natural language is?** <br>\n",
        "It is a means for us to express our thoughts and ideas. To define it more specifically, language is a mutually agreed upon set of protocols involving words/sounds that we use to communicate with each other.\n",
        "\n",
        "NLP can be defined as a field of computer science that is concerned with enabling compouter algorithms to understand, analyze, and generate natural languages.\n"
      ],
      "metadata": {
        "id": "UscKTUcPD8wg"
      }
    },
    {
      "cell_type": "markdown",
      "source": [
        "NLP works at different leves, with means that machines process and understand natural language at different levels:\n",
        "- **Morphological level**: this leval deals with understanding word structure and word information;\n",
        "- **Lexical level**: This level deals with understanding the part od speech of the word. <i>(compreensão da parte gramatical da palavra)</i>\n",
        "- **Syntatic level**: This level deals with understanding the syntatic analysis of a sentence, or parsing a sentence.\n",
        "- **Semantic level**: This deals with understanding the actual meaning of a sentence.\n",
        "- **Discourse level**: This level deals with understanding the meaning of a sentence beyound just the sentence level, that is, considering the context.\n",
        "- **Pragmatic level**: This level deals with using real-world knowledge to understand sentence. "
      ],
      "metadata": {
        "id": "VCkoYDF1Fi9B"
      }
    },
    {
      "cell_type": "markdown",
      "source": [
        "**History of NLP** <br>\n",
        "\n",
        "**NLP** = Artificial intelligence + linguistics + data science \n",
        "\n",
        "With the advancemnt of computing technologies and increased availability of data, NLP has undergone a huge change. Previously a traditional rule-based system was used for computations, in wich you had to explicitly write hardcoded rules. Today, compuations on natural language are being done using machine learning and deep learning techniques."
      ],
      "metadata": {
        "id": "LOAuEmh7avne"
      }
    },
    {
      "cell_type": "markdown",
      "source": [
        "<i>O exemplo utilizado para ilustrar como os sistemas de NLP eram utilizados de acordo com regras, foi baseado em um projeto de extrair nomes de políticos de um jornal. Se quisermos pegar esses nomes, antes teríamos que elaborar todas as regras para eles, como por exemplo, qual seria a estrutura sintática de um nome próprio - um nome próprio precisaria começar sempre com letra maiúscula -  e assim por diante.\n",
        "\n",
        "Muito embora esse sistema baseado em regras não trouxesse um desempenho computacional, foi utilizado por bastante tempo.</i>"
      ],
      "metadata": {
        "id": "zcjY1tbCIurm"
      }
    },
    {
      "cell_type": "markdown",
      "source": [
        "<b>Text Analytics and NLP </b>"
      ],
      "metadata": {
        "id": "O0I7OpYY81me"
      }
    },
    {
      "cell_type": "markdown",
      "source": [
        "<b>Text analytics</b>  is the method of extracting meaningful insights and answering questions from text data ➡ (<i>length of sentences, length os words, word count, and finding words from the text</i>)\n",
        "\n",
        "↪ we are generating insights from text without getting into semantics of the language.\n",
        "\n",
        "<b>NLP</b> on the oter hand, help us in understanding the semantics and the underlying meaning of text  ➡ (<i> sentiment of a sentence, top keywords in a text, parts pf speech for different words</i>)\n",
        " \n",
        "\n",
        "\n"
      ],
      "metadata": {
        "id": "zVCNJtPrYGKi"
      }
    },
    {
      "cell_type": "markdown",
      "source": [
        "* <b>Natural Language Understading (NLU) </b><br>\n",
        "NLU refres to a process by wich an inanimate object with computing power is able to comprehend spoken language.\n",
        "\n",
        "* <b>Natural Language Generatuion (NLG) </b><br>\n",
        "NLG refers to a process by wich an inanimate object with computing power is able to comunicate with humans in a language that they can understand or is able to generate human-understandable text from a dataset.\n"
      ],
      "metadata": {
        "id": "FrrJS7Z4gpWP"
      }
    },
    {
      "cell_type": "markdown",
      "source": [
        "Exercise 1.01: Basic Text Analytics"
      ],
      "metadata": {
        "id": "jodYWNNb9WMp"
      }
    },
    {
      "cell_type": "code",
      "execution_count": 1,
      "metadata": {
        "id": "FJ6eM4-CUf7n",
        "colab": {
          "base_uri": "https://localhost:8080/",
          "height": 35
        },
        "outputId": "1939908d-dda2-4af3-f612-e0579553c26b"
      },
      "outputs": [
        {
          "output_type": "execute_result",
          "data": {
            "text/plain": [
              "'The quick brown fox jumps over the lazy dog'"
            ],
            "application/vnd.google.colaboratory.intrinsic+json": {
              "type": "string"
            }
          },
          "metadata": {},
          "execution_count": 1
        }
      ],
      "source": [
        "# 2. Assign a sentence variable the value 'the quick brown fox jumps over te lazy dog'\n",
        "\n",
        "sentence = 'The quick brown fox jumps over the lazy dog'\n",
        "sentence"
      ]
    },
    {
      "cell_type": "code",
      "source": [
        "# 3. Check if the word 'quick' belongs to sentence\n",
        "\n",
        "def find_word(word, sentence):\n",
        "  return word in sentence\n",
        "\n",
        "find_word('quick', sentence)  "
      ],
      "metadata": {
        "colab": {
          "base_uri": "https://localhost:8080/"
        },
        "id": "1BLzybEgRz4G",
        "outputId": "2f466b39-058d-4275-cf0b-edf885b9557b"
      },
      "execution_count": 2,
      "outputs": [
        {
          "output_type": "execute_result",
          "data": {
            "text/plain": [
              "True"
            ]
          },
          "metadata": {},
          "execution_count": 2
        }
      ]
    },
    {
      "cell_type": "code",
      "source": [
        "# 4. Find out the index value of the word 'fox'\n",
        "\n",
        "def get_index(word, text):\n",
        "  return text.index(word)\n",
        "\n",
        "get_index('fox', sentence)  "
      ],
      "metadata": {
        "colab": {
          "base_uri": "https://localhost:8080/"
        },
        "id": "xPR2kCLuSGyv",
        "outputId": "215edf90-ca64-4017-bbdb-9ec25d3d0904"
      },
      "execution_count": 3,
      "outputs": [
        {
          "output_type": "execute_result",
          "data": {
            "text/plain": [
              "16"
            ]
          },
          "metadata": {},
          "execution_count": 3
        }
      ]
    },
    {
      "cell_type": "code",
      "source": [
        "# 5. Find out the rank of the word 'lazy'\n",
        "\n",
        "get_index('lazy', sentence.split())"
      ],
      "metadata": {
        "colab": {
          "base_uri": "https://localhost:8080/"
        },
        "id": "vwtx9he3T0de",
        "outputId": "1bb52dec-2a03-497c-fe96-895e2ecdf4b2"
      },
      "execution_count": 4,
      "outputs": [
        {
          "output_type": "execute_result",
          "data": {
            "text/plain": [
              "7"
            ]
          },
          "metadata": {},
          "execution_count": 4
        }
      ]
    },
    {
      "cell_type": "code",
      "source": [
        "# 6. Print the third word of the given text\n",
        "\n",
        "def get_word(text, rank):\n",
        "  return text.split()[rank]\n",
        "\n",
        "get_word(sentence, 2)  "
      ],
      "metadata": {
        "colab": {
          "base_uri": "https://localhost:8080/",
          "height": 35
        },
        "id": "X9fY1JQmUBCS",
        "outputId": "c0ab37ac-ee29-4752-a83b-5383e2f67685"
      },
      "execution_count": 5,
      "outputs": [
        {
          "output_type": "execute_result",
          "data": {
            "text/plain": [
              "'brown'"
            ],
            "application/vnd.google.colaboratory.intrinsic+json": {
              "type": "string"
            }
          },
          "metadata": {},
          "execution_count": 5
        }
      ]
    },
    {
      "cell_type": "code",
      "source": [
        "# 7. Print the third word of the given text in reverse order\n",
        "\n",
        "get_word(sentence, 2)[::-1]"
      ],
      "metadata": {
        "colab": {
          "base_uri": "https://localhost:8080/",
          "height": 35
        },
        "id": "ROVvYXR1Ub3e",
        "outputId": "8c7d1f83-7763-47f0-9f47-0bb543e1774a"
      },
      "execution_count": 6,
      "outputs": [
        {
          "output_type": "execute_result",
          "data": {
            "text/plain": [
              "'nworb'"
            ],
            "application/vnd.google.colaboratory.intrinsic+json": {
              "type": "string"
            }
          },
          "metadata": {},
          "execution_count": 6
        }
      ]
    },
    {
      "cell_type": "code",
      "source": [
        "# 8. Concatenate the first and last word ofs of the given sentence\n",
        "\n",
        "def concat_words(text):\n",
        "  '''\n",
        "  This method will concat first and last words of given text\n",
        "  '''\n",
        "  words = text.split()\n",
        "  first_word = words[0]\n",
        "  last_word = words[len(words)-1]\n",
        "  return first_word + last_word\n",
        "\n",
        "concat_words(sentence)  "
      ],
      "metadata": {
        "colab": {
          "base_uri": "https://localhost:8080/",
          "height": 35
        },
        "id": "EynXKvqLVLun",
        "outputId": "88e7b7de-49d9-4dca-9a90-712fbe25066f"
      },
      "execution_count": 7,
      "outputs": [
        {
          "output_type": "execute_result",
          "data": {
            "text/plain": [
              "'Thedog'"
            ],
            "application/vnd.google.colaboratory.intrinsic+json": {
              "type": "string"
            }
          },
          "metadata": {},
          "execution_count": 7
        }
      ]
    },
    {
      "cell_type": "code",
      "source": [
        "# 9. Print words at even positions\n",
        "\n",
        "def get_even_positions_words(text):\n",
        "  words = text.split()\n",
        "  return [words[i] for i in range (len(words)) if i%2 == 0]\n",
        "\n",
        "get_even_positions_words(sentence)"
      ],
      "metadata": {
        "colab": {
          "base_uri": "https://localhost:8080/"
        },
        "id": "7TB6BUfBWFZL",
        "outputId": "d60f2527-8629-4d5a-9719-5247cfd4742f"
      },
      "execution_count": 8,
      "outputs": [
        {
          "output_type": "execute_result",
          "data": {
            "text/plain": [
              "['The', 'brown', 'jumps', 'the', 'dog']"
            ]
          },
          "metadata": {},
          "execution_count": 8
        }
      ]
    },
    {
      "cell_type": "code",
      "source": [
        "# 10. Print the last  three letters of the text\n",
        "\n",
        "def get_last_n_letters(text, n):\n",
        "  return text[-n:]\n",
        "\n",
        "get_last_n_letters(sentence, 3)  "
      ],
      "metadata": {
        "colab": {
          "base_uri": "https://localhost:8080/",
          "height": 35
        },
        "id": "x7Ads8e7WpEe",
        "outputId": "c90728e3-4f98-4bdf-b093-280a244ead7e"
      },
      "execution_count": 9,
      "outputs": [
        {
          "output_type": "execute_result",
          "data": {
            "text/plain": [
              "'dog'"
            ],
            "application/vnd.google.colaboratory.intrinsic+json": {
              "type": "string"
            }
          },
          "metadata": {},
          "execution_count": 9
        }
      ]
    },
    {
      "cell_type": "code",
      "source": [
        "# 11. To print the text in reverse order\n",
        "\n",
        "def get_reverse(text):\n",
        "  return text[::-1]\n",
        "\n",
        "get_reverse(sentence)  "
      ],
      "metadata": {
        "colab": {
          "base_uri": "https://localhost:8080/",
          "height": 35
        },
        "id": "F4ZyyDksW7Hf",
        "outputId": "eedf628d-56eb-481e-86d1-8c7cf3474752"
      },
      "execution_count": 10,
      "outputs": [
        {
          "output_type": "execute_result",
          "data": {
            "text/plain": [
              "'god yzal eht revo spmuj xof nworb kciuq ehT'"
            ],
            "application/vnd.google.colaboratory.intrinsic+json": {
              "type": "string"
            }
          },
          "metadata": {},
          "execution_count": 10
        }
      ]
    },
    {
      "cell_type": "code",
      "source": [
        "# 12. To print each word of the given text in reverse order, maintaining their sequence\n",
        "\n",
        "def get_word_reverse(text):\n",
        "  words = text.split()\n",
        "  return ' '.join([word[::-1] for word in words])\n",
        "\n",
        "get_word_reverse(sentence)  "
      ],
      "metadata": {
        "colab": {
          "base_uri": "https://localhost:8080/",
          "height": 35
        },
        "id": "kBB-UEGrXWtY",
        "outputId": "e01d8e80-c1f0-4ad4-8e6d-4346af038149"
      },
      "execution_count": 11,
      "outputs": [
        {
          "output_type": "execute_result",
          "data": {
            "text/plain": [
              "'ehT kciuq nworb xof spmuj revo eht yzal god'"
            ],
            "application/vnd.google.colaboratory.intrinsic+json": {
              "type": "string"
            }
          },
          "metadata": {},
          "execution_count": 11
        }
      ]
    },
    {
      "cell_type": "markdown",
      "source": [
        "<b>Various Tasks in NLP</b>"
      ],
      "metadata": {
        "id": "jrSwt9HS9bw7"
      }
    },
    {
      "cell_type": "code",
      "source": [
        "!pip install nltk"
      ],
      "metadata": {
        "colab": {
          "base_uri": "https://localhost:8080/"
        },
        "id": "XT_RijnnYhKp",
        "outputId": "3f02269d-176d-43d3-a3f0-4f859eeabfcf"
      },
      "execution_count": 12,
      "outputs": [
        {
          "output_type": "stream",
          "name": "stdout",
          "text": [
            "Looking in indexes: https://pypi.org/simple, https://us-python.pkg.dev/colab-wheels/public/simple/\n",
            "Requirement already satisfied: nltk in /usr/local/lib/python3.9/dist-packages (3.7)\n",
            "Requirement already satisfied: click in /usr/local/lib/python3.9/dist-packages (from nltk) (8.1.3)\n",
            "Requirement already satisfied: joblib in /usr/local/lib/python3.9/dist-packages (from nltk) (1.2.0)\n",
            "Requirement already satisfied: regex>=2021.8.3 in /usr/local/lib/python3.9/dist-packages (from nltk) (2022.6.2)\n",
            "Requirement already satisfied: tqdm in /usr/local/lib/python3.9/dist-packages (from nltk) (4.65.0)\n"
          ]
        }
      ]
    },
    {
      "cell_type": "markdown",
      "source": [
        "<b>Tokenization</b> <br>\n",
        "<i>Tokenization refres to the procedure of splitting a sentence into its constituent parts - the words and punctuation that is it made up of. Such tokens are called <b>unigrams.</b></i>\n",
        "\n",
        "<br>\n",
        "Exercise 1.02: Tokenization of a simple sentence"
      ],
      "metadata": {
        "id": "2NzAo9l49iUC"
      }
    },
    {
      "cell_type": "code",
      "source": [
        "from nltk import word_tokenize, download \n",
        "\n"
      ],
      "metadata": {
        "id": "vd4WLzyG6KN5"
      },
      "execution_count": null,
      "outputs": []
    },
    {
      "cell_type": "markdown",
      "source": [
        "PoS Tagging <br>\n",
        "Exercise 1.03: PoS Tagging\n"
      ],
      "metadata": {
        "id": "g7fFXlW7904k"
      }
    },
    {
      "cell_type": "code",
      "source": [],
      "metadata": {
        "id": "NgCom0vv9-6I"
      },
      "execution_count": null,
      "outputs": []
    },
    {
      "cell_type": "markdown",
      "source": [
        "Stop Word Removal <br>\n",
        "Exercise 1.04: Stop Word Removal"
      ],
      "metadata": {
        "id": "E645LpRc-A77"
      }
    },
    {
      "cell_type": "code",
      "source": [],
      "metadata": {
        "id": "Gha13Hqz-Go7"
      },
      "execution_count": null,
      "outputs": []
    },
    {
      "cell_type": "markdown",
      "source": [
        "Text Normalization <br>\n",
        "Exercise 1.05: Text Normalization"
      ],
      "metadata": {
        "id": "Xng583jq-IPf"
      }
    },
    {
      "cell_type": "code",
      "source": [],
      "metadata": {
        "id": "ac1sOwhh-O6P"
      },
      "execution_count": null,
      "outputs": []
    },
    {
      "cell_type": "markdown",
      "source": [
        "Spelling Correction <br>\n",
        "Exercise 1.06: Spelling Correction of a word and a Sentence"
      ],
      "metadata": {
        "id": "Mhil3P1a_Pcr"
      }
    },
    {
      "cell_type": "code",
      "source": [],
      "metadata": {
        "id": "-8Bo1gH__YCC"
      },
      "execution_count": null,
      "outputs": []
    },
    {
      "cell_type": "markdown",
      "source": [
        "Stemming <br>\n",
        "Exercise 1.07: Using Stemming"
      ],
      "metadata": {
        "id": "2X8ns_Pc_YiV"
      }
    },
    {
      "cell_type": "code",
      "source": [],
      "metadata": {
        "id": "ZltGBX06_eY3"
      },
      "execution_count": null,
      "outputs": []
    },
    {
      "cell_type": "markdown",
      "source": [
        "Lemmatization <br>\n",
        "Exercise 1.08: Extracting the base Word using Lemmatization"
      ],
      "metadata": {
        "id": "GWGq4WnR_e0S"
      }
    },
    {
      "cell_type": "code",
      "source": [],
      "metadata": {
        "id": "2K8pdcU0_qA0"
      },
      "execution_count": null,
      "outputs": []
    },
    {
      "cell_type": "markdown",
      "source": [
        "Named Entity Recognition NER<br>\n",
        "Exercise 1.09: Treating Named Entities"
      ],
      "metadata": {
        "id": "VZZNHCYU_sM8"
      }
    },
    {
      "cell_type": "code",
      "source": [],
      "metadata": {
        "id": "wtDkem51_65F"
      },
      "execution_count": null,
      "outputs": []
    },
    {
      "cell_type": "markdown",
      "source": [
        "Word Sense Disambiguation <br>\n",
        "Exercise 1.10: Word Sense Disabiguation"
      ],
      "metadata": {
        "id": "Q4jEVOQm_-Ue"
      }
    },
    {
      "cell_type": "code",
      "source": [],
      "metadata": {
        "id": "iYv5UT59AHv3"
      },
      "execution_count": null,
      "outputs": []
    },
    {
      "cell_type": "markdown",
      "source": [
        "Sentence Boundary Detection <br>\n",
        "Exercise 1.11: Sentence boundary detection"
      ],
      "metadata": {
        "id": "QMpoNohWAKAW"
      }
    },
    {
      "cell_type": "code",
      "source": [],
      "metadata": {
        "id": "nH72kFI4ATD5"
      },
      "execution_count": null,
      "outputs": []
    },
    {
      "cell_type": "markdown",
      "source": [
        "Activity 1.01: Preprocessing of raw text"
      ],
      "metadata": {
        "id": "hRGk6jYbATkx"
      }
    },
    {
      "cell_type": "code",
      "source": [],
      "metadata": {
        "id": "t-7byEQjAasQ"
      },
      "execution_count": null,
      "outputs": []
    }
  ]
}