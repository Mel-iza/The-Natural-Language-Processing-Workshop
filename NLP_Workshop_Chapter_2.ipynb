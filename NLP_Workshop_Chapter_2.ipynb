{
  "nbformat": 4,
  "nbformat_minor": 0,
  "metadata": {
    "colab": {
      "provenance": [],
      "authorship_tag": "ABX9TyNj5p3KOM6lvjgvSANvZRD7",
      "include_colab_link": true
    },
    "kernelspec": {
      "name": "python3",
      "display_name": "Python 3"
    },
    "language_info": {
      "name": "python"
    }
  },
  "cells": [
    {
      "cell_type": "markdown",
      "metadata": {
        "id": "view-in-github",
        "colab_type": "text"
      },
      "source": [
        "<a href=\"https://colab.research.google.com/github/Mel-iza/The-Natural-Language-Processing-Workshop/blob/main/NLP_Workshop_Chapter_2.ipynb\" target=\"_parent\"><img src=\"https://colab.research.google.com/assets/colab-badge.svg\" alt=\"Open In Colab\"/></a>"
      ]
    },
    {
      "cell_type": "markdown",
      "source": [
        "### Chapter 2: Feature Extraction Methods"
      ],
      "metadata": {
        "id": "4MO3Y9Ik6bM8"
      }
    },
    {
      "cell_type": "markdown",
      "source": [
        "Overview: In this chapter, you will be able to categorize data based on its content and structure. You will be able to describe preprocessing steps in detail and implement them to clean up text data. You will learn about feature engineering and calculate similarity between texts. Once you understand these concepts, you will be able to use word clouds and some other techniques to visualize text"
      ],
      "metadata": {
        "id": "J_tKTcBO6e_-"
      }
    },
    {
      "cell_type": "code",
      "execution_count": null,
      "metadata": {
        "id": "5ILgJ5Ki6WbB"
      },
      "outputs": [],
      "source": []
    }
  ]
}